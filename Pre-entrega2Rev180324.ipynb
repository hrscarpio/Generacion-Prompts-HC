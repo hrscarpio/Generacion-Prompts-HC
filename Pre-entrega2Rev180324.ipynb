{
 "cells": [
  {
   "cell_type": "code",
   "execution_count": 9,
   "id": "847f4171-5503-4f38-841d-ce75f6cb2b82",
   "metadata": {},
   "outputs": [
    {
     "name": "stdout",
     "output_type": "stream",
     "text": [
      "c:\\Users\\hrsca\\OneDrive\\Documentos\\CoderHouse\\IngenieriaPrompts\\Pre-entrega2\n"
     ]
    },
    {
     "ename": "APIRemovedInV1",
     "evalue": "\n\nYou tried to access openai.ChatCompletion, but this is no longer supported in openai>=1.0.0 - see the README at https://github.com/openai/openai-python for the API.\n\nYou can run `openai migrate` to automatically upgrade your codebase to use the 1.0.0 interface. \n\nAlternatively, you can pin your installation to the old version, e.g. `pip install openai==0.28`\n\nA detailed migration guide is available here: https://github.com/openai/openai-python/discussions/742\n",
     "output_type": "error",
     "traceback": [
      "\u001b[1;31m---------------------------------------------------------------------------\u001b[0m",
      "\u001b[1;31mAPIRemovedInV1\u001b[0m                            Traceback (most recent call last)",
      "Cell \u001b[1;32mIn[9], line 50\u001b[0m\n\u001b[0;32m     47\u001b[0m prompt_optimizacion \u001b[38;5;241m=\u001b[39m \u001b[38;5;124m\"\"\"\u001b[39m\u001b[38;5;124mmejora y detalla la siguiente historia, agregando elementos sorprendentes, giros inesperados y descripciones vívidas para cautivar al lector y sumergirlo en la narrativa:\u001b[39m\u001b[38;5;124m\"\"\"\u001b[39m\n\u001b[0;32m     49\u001b[0m \u001b[38;5;66;03m# Generar la historia optimizada utilizando la función definida anteriormente y los prompts del usuario\u001b[39;00m\n\u001b[1;32m---> 50\u001b[0m historia_optimizada \u001b[38;5;241m=\u001b[39m \u001b[43mgenerar_historia\u001b[49m\u001b[43m(\u001b[49m\u001b[43mcontexto\u001b[49m\u001b[43m,\u001b[49m\u001b[43m \u001b[49m\u001b[43mprompt_optimizacion\u001b[49m\u001b[43m)\u001b[49m\n\u001b[0;32m     52\u001b[0m \u001b[38;5;66;03m# Imprimir la historia optimizada\u001b[39;00m\n\u001b[0;32m     53\u001b[0m \u001b[38;5;28mprint\u001b[39m(\u001b[38;5;124m\"\u001b[39m\u001b[38;5;124mHistoria Generada (Optimizada):\u001b[39m\u001b[38;5;124m\"\u001b[39m)\n",
      "Cell \u001b[1;32mIn[9], line 21\u001b[0m, in \u001b[0;36mgenerar_historia\u001b[1;34m(context, prompt)\u001b[0m\n\u001b[0;32m     13\u001b[0m few_shot_examples \u001b[38;5;241m=\u001b[39m [\n\u001b[0;32m     14\u001b[0m     {\u001b[38;5;124m\"\u001b[39m\u001b[38;5;124mrole\u001b[39m\u001b[38;5;124m\"\u001b[39m: \u001b[38;5;124m\"\u001b[39m\u001b[38;5;124msystem\u001b[39m\u001b[38;5;124m\"\u001b[39m, \u001b[38;5;124m\"\u001b[39m\u001b[38;5;124mcontent\u001b[39m\u001b[38;5;124m\"\u001b[39m: \u001b[38;5;124m\"\u001b[39m\u001b[38;5;124mContexto: \u001b[39m\u001b[38;5;124m\"\u001b[39m \u001b[38;5;241m+\u001b[39m context},\n\u001b[0;32m     15\u001b[0m     {\u001b[38;5;124m\"\u001b[39m\u001b[38;5;124mrole\u001b[39m\u001b[38;5;124m\"\u001b[39m: \u001b[38;5;124m\"\u001b[39m\u001b[38;5;124muser\u001b[39m\u001b[38;5;124m\"\u001b[39m, \u001b[38;5;124m\"\u001b[39m\u001b[38;5;124mcontent\u001b[39m\u001b[38;5;124m\"\u001b[39m: \u001b[38;5;124m\"\u001b[39m\u001b[38;5;124mUsuario: \u001b[39m\u001b[38;5;124m\"\u001b[39m \u001b[38;5;241m+\u001b[39m prompt},\n\u001b[0;32m     16\u001b[0m     {\u001b[38;5;124m\"\u001b[39m\u001b[38;5;124mrole\u001b[39m\u001b[38;5;124m\"\u001b[39m: \u001b[38;5;124m\"\u001b[39m\u001b[38;5;124msystem\u001b[39m\u001b[38;5;124m\"\u001b[39m, \u001b[38;5;124m\"\u001b[39m\u001b[38;5;124mcontent\u001b[39m\u001b[38;5;124m\"\u001b[39m: \u001b[38;5;124m\"\u001b[39m\u001b[38;5;124mSistema: ¿Puedes proporcionar más detalles sobre la historia?\u001b[39m\u001b[38;5;124m\"\u001b[39m},\n\u001b[0;32m     17\u001b[0m     {\u001b[38;5;124m\"\u001b[39m\u001b[38;5;124mrole\u001b[39m\u001b[38;5;124m\"\u001b[39m: \u001b[38;5;124m\"\u001b[39m\u001b[38;5;124muser\u001b[39m\u001b[38;5;124m\"\u001b[39m, \u001b[38;5;124m\"\u001b[39m\u001b[38;5;124mcontent\u001b[39m\u001b[38;5;124m\"\u001b[39m: \u001b[38;5;124m\"\u001b[39m\u001b[38;5;124mUsuario: \u001b[39m\u001b[38;5;124m\"\u001b[39m \u001b[38;5;241m+\u001b[39m prompt \u001b[38;5;241m+\u001b[39m \u001b[38;5;124m\"\u001b[39m\u001b[38;5;130;01m\\n\u001b[39;00m\u001b[38;5;124mMás detalles sobre la historia.\u001b[39m\u001b[38;5;124m\"\u001b[39m},\n\u001b[0;32m     18\u001b[0m ]\n\u001b[0;32m     20\u001b[0m \u001b[38;5;66;03m# Realizar la petición a la API para generar la historia, especificando el modelo y los parámetros de la solicitud\u001b[39;00m\n\u001b[1;32m---> 21\u001b[0m response \u001b[38;5;241m=\u001b[39m \u001b[43mopenai\u001b[49m\u001b[38;5;241;43m.\u001b[39;49m\u001b[43mChatCompletion\u001b[49m\u001b[38;5;241;43m.\u001b[39;49m\u001b[43mcreate\u001b[49m\u001b[43m(\u001b[49m\n\u001b[0;32m     22\u001b[0m \u001b[43m    \u001b[49m\u001b[43mmodel\u001b[49m\u001b[38;5;241;43m=\u001b[39;49m\u001b[38;5;124;43m\"\u001b[39;49m\u001b[38;5;124;43mgpt-3.5-turbo\u001b[39;49m\u001b[38;5;124;43m\"\u001b[39;49m\u001b[43m,\u001b[49m\n\u001b[0;32m     23\u001b[0m \u001b[43m    \u001b[49m\u001b[43mmessages\u001b[49m\u001b[38;5;241;43m=\u001b[39;49m\u001b[43mfew_shot_examples\u001b[49m\u001b[43m,\u001b[49m\n\u001b[0;32m     24\u001b[0m \u001b[43m    \u001b[49m\u001b[43mtemperature\u001b[49m\u001b[38;5;241;43m=\u001b[39;49m\u001b[38;5;241;43m1.2\u001b[39;49m\u001b[43m,\u001b[49m\n\u001b[0;32m     25\u001b[0m \u001b[43m    \u001b[49m\u001b[43mmax_tokens\u001b[49m\u001b[38;5;241;43m=\u001b[39;49m\u001b[38;5;241;43m400\u001b[39;49m\n\u001b[0;32m     26\u001b[0m \u001b[43m\u001b[49m\u001b[43m)\u001b[49m\n\u001b[0;32m     27\u001b[0m \u001b[38;5;66;03m# Extraer el mensaje generado por la IA de la respuesta\u001b[39;00m\n\u001b[0;32m     28\u001b[0m message \u001b[38;5;241m=\u001b[39m response\u001b[38;5;241m.\u001b[39mchoices[\u001b[38;5;241m0\u001b[39m][\u001b[38;5;124m'\u001b[39m\u001b[38;5;124mmessage\u001b[39m\u001b[38;5;124m'\u001b[39m]\n",
      "File \u001b[1;32mc:\\Users\\hrsca\\OneDrive\\Documentos\\CoderHouse\\IngenieriaPrompts\\Pre-entrega2\\venv\\Lib\\site-packages\\openai\\lib\\_old_api.py:39\u001b[0m, in \u001b[0;36mAPIRemovedInV1Proxy.__call__\u001b[1;34m(self, *_args, **_kwargs)\u001b[0m\n\u001b[0;32m     38\u001b[0m \u001b[38;5;28;01mdef\u001b[39;00m \u001b[38;5;21m__call__\u001b[39m(\u001b[38;5;28mself\u001b[39m, \u001b[38;5;241m*\u001b[39m_args: Any, \u001b[38;5;241m*\u001b[39m\u001b[38;5;241m*\u001b[39m_kwargs: Any) \u001b[38;5;241m-\u001b[39m\u001b[38;5;241m>\u001b[39m Any:\n\u001b[1;32m---> 39\u001b[0m     \u001b[38;5;28;01mraise\u001b[39;00m APIRemovedInV1(symbol\u001b[38;5;241m=\u001b[39m\u001b[38;5;28mself\u001b[39m\u001b[38;5;241m.\u001b[39m_symbol)\n",
      "\u001b[1;31mAPIRemovedInV1\u001b[0m: \n\nYou tried to access openai.ChatCompletion, but this is no longer supported in openai>=1.0.0 - see the README at https://github.com/openai/openai-python for the API.\n\nYou can run `openai migrate` to automatically upgrade your codebase to use the 1.0.0 interface. \n\nAlternatively, you can pin your installation to the old version, e.g. `pip install openai==0.28`\n\nA detailed migration guide is available here: https://github.com/openai/openai-python/discussions/742\n"
     ]
    }
   ],
   "source": [
    "\n",
    "\n",
    "# Preparar dos prompts a partir de la historia optimizada para generar imágenes, dividiendo la historia en dos partes\n",
    "prompts_imagenes = [\n",
    "    historia_optimizada[:len(historia_optimizada)//2],  # Primera mitad de la historia\n",
    "    historia_optimizada[len(historia_optimizada)//2:],  # Segunda mitad de la historia\n",
    "]\n",
    "\n",
    "# Inicializar la lista para almacenar las URLs de las imágenes generadas\n",
    "def generar_imagenes(texto):\n",
    "    urls_imagenes = []\n",
    "    # Dividir el texto en segmentos de 1000 caracteres máximo\n",
    "    segmentos = [texto[i:i+1000] for i in range(0, len(texto), 1000)]\n",
    "    \n",
    "    for segmento in segmentos:\n",
    "        try:\n",
    "            response = openai.Image.create(\n",
    "                prompt=segmento,\n",
    "                n=1\n",
    "            )\n",
    "            # Asumiendo que la respuesta incluye al menos una imagen\n",
    "            url_imagen = response['data'][0]['url']\n",
    "            urls_imagenes.append(url_imagen)\n",
    "        except Exception as e:\n",
    "            print(f\"Error al generar imagen para el segmento: {e}\")\n",
    "    \n",
    "    return urls_imagenes\n",
    "\n",
    "# Ejemplo de uso y otras partes del código omitidas por brevedad...\n",
    "\n",
    "# Generar y mostrar URLs de imágenes después de la generación de la historia optimizada\n",
    "urls_imagenes = generar_imagenes(historia_optimizada)\n",
    "print(\"URLs de las imágenes generadas:\")\n",
    "for url in urls_imagenes:\n",
    "    print(url)\n",
    "\n",
    "def texto_a_audio(texto, nombre_archivo_audio):\n",
    "    # Asumiendo que la carpeta actual es la ubicación deseada\n",
    "    speech_file_path = Path.cwd() / nombre_archivo_audio\n",
    "    print(\"Inicio de la función texto_a_audio\")\n",
    "    print(f\"Guardando el archivo de audio en: {speech_file_path}\")\n",
    "    try:\n",
    "        response = openai.Audio.create(\n",
    "            model=\"tts-1\",\n",
    "            voice=\"alloy\",\n",
    "            input=texto\n",
    "        )\n",
    "        print(\"Respuesta recibida de OpenAI\")\n",
    "        # Asegúrate de que esta línea accede correctamente a los datos binarios del audio\n",
    "        audio_data = response.content\n",
    "\n",
    "        with open(speech_file_path, \"wb\") as f:\n",
    "            f.write(audio_data)\n",
    "        print(f\"Audio generado y guardado en: {speech_file_path}\")\n",
    "    except Exception as e:\n",
    "        print(f\"Ocurrió un error al generar el audio: {e}\")\n"
   ]
  },
  {
   "cell_type": "code",
   "execution_count": null,
   "id": "523157db-f3b4-4499-a295-8d433485dd3f",
   "metadata": {},
   "outputs": [],
   "source": []
  }
 ],
 "metadata": {
  "kernelspec": {
   "display_name": "Python 3 (ipykernel)",
   "language": "python",
   "name": "python3"
  },
  "language_info": {
   "codemirror_mode": {
    "name": "ipython",
    "version": 3
   },
   "file_extension": ".py",
   "mimetype": "text/x-python",
   "name": "python",
   "nbconvert_exporter": "python",
   "pygments_lexer": "ipython3",
   "version": "3.11.7"
  }
 },
 "nbformat": 4,
 "nbformat_minor": 5
}
